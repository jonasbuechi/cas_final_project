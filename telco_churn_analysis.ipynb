{
 "cells": [
  {
   "attachments": {},
   "cell_type": "markdown",
   "metadata": {},
   "source": [
    "# Analyzing Telco Customer Churn"
   ]
  },
  {
   "attachments": {},
   "cell_type": "markdown",
   "metadata": {},
   "source": [
    "## Import Telco Churn Dataset"
   ]
  },
  {
   "cell_type": "code",
   "execution_count": 3,
   "metadata": {},
   "outputs": [],
   "source": [
    "# import required libraries\n",
    "import pandas as pd\n",
    "import numpy as np\n",
    "import seaborn as sns\n",
    "import matplotlib.pyplot as plt\n",
    "from sklearn.preprocessing import LabelEncoder\n",
    "import imblearn\n",
    "from imblearn.over_sampling import RandomOverSampler"
   ]
  },
  {
   "cell_type": "code",
   "execution_count": null,
   "metadata": {},
   "outputs": [],
   "source": [
    "# import data\n",
    "df = pd.read_excel('Telco_customer_churn.xlsx')\n"
   ]
  },
  {
   "attachments": {},
   "cell_type": "markdown",
   "metadata": {},
   "source": [
    "## Basic Descriptive Analysis\n",
    "This will help to familiarize with the data / identify missings etc."
   ]
  },
  {
   "cell_type": "code",
   "execution_count": null,
   "metadata": {},
   "outputs": [],
   "source": [
    "# Display the first few rows of the DataFrame to get a glimpse of the data\n",
    "df.head()"
   ]
  },
  {
   "cell_type": "code",
   "execution_count": null,
   "metadata": {},
   "outputs": [],
   "source": [
    "# Get an overview of the dataset's structure and information: \n",
    "df.info()"
   ]
  },
  {
   "cell_type": "code",
   "execution_count": null,
   "metadata": {},
   "outputs": [],
   "source": [
    "# Calculate summary statistics for numerical variables:\n",
    "df.describe()"
   ]
  },
  {
   "cell_type": "code",
   "execution_count": null,
   "metadata": {},
   "outputs": [],
   "source": [
    "# Check for missing values:\n",
    "df.isnull().sum()"
   ]
  },
  {
   "attachments": {},
   "cell_type": "markdown",
   "metadata": {},
   "source": [
    "## Generate demographics distribution plots"
   ]
  },
  {
   "cell_type": "code",
   "execution_count": null,
   "metadata": {},
   "outputs": [],
   "source": [
    "# 2 by 2 descriptive Plots\n",
    "\n",
    "# Calculate proportions\n",
    "proportions_gender = df['Gender'].value_counts(normalize=True) * 100\n",
    "proportions_senior_citizen = df['Senior Citizen'].value_counts(normalize=True) * 100\n",
    "proportions_partner = df['Partner'].value_counts(normalize=True) * 100\n",
    "proportions_dependents = df['Dependents'].value_counts(normalize=True) * 100\n",
    "\n",
    "# Create a 2x2 grid of subplots\n",
    "fig, axes = plt.subplots(nrows=2, ncols=2, figsize=(10, 10))\n",
    "\n",
    "# Plot Gender distribution with proportions\n",
    "ax = axes[0, 0]\n",
    "sns.barplot(x=proportions_gender.index, y=proportions_gender.values, ax=ax)\n",
    "ax.set_title('Gender Distribution')\n",
    "ax.set_ylabel('Proportion (%)')\n",
    "for i, proportion in enumerate(proportions_gender):\n",
    "    ax.annotate(f'{proportion:.1f}%', (i, proportion), ha='center', va='bottom')\n",
    "\n",
    "# Plot Senior Citizen distribution with proportions\n",
    "ax = axes[0, 1]\n",
    "sns.barplot(x=proportions_senior_citizen.index, y=proportions_senior_citizen.values, ax=ax)\n",
    "ax.set_title('Senior Citizen Distribution')\n",
    "ax.set_ylabel('Proportion (%)')\n",
    "for i, proportion in enumerate(proportions_senior_citizen):\n",
    "    ax.annotate(f'{proportion:.1f}%', (i, proportion), ha='center', va='bottom')\n",
    "\n",
    "# Plot Partner distribution with proportions\n",
    "ax = axes[1, 0]\n",
    "sns.barplot(x=proportions_partner.index, y=proportions_partner.values, ax=ax)\n",
    "ax.set_title('Partner Distribution')\n",
    "ax.set_ylabel('Proportion (%)')\n",
    "for i, proportion in enumerate(proportions_partner):\n",
    "    ax.annotate(f'{proportion:.1f}%', (i, proportion), ha='center', va='bottom')\n",
    "\n",
    "# Plot Dependents distribution with proportions\n",
    "ax = axes[1, 1]\n",
    "sns.barplot(x=proportions_dependents.index, y=proportions_dependents.values, ax=ax)\n",
    "ax.set_title('Dependents Distribution')\n",
    "ax.set_ylabel('Proportion (%)')\n",
    "for i, proportion in enumerate(proportions_dependents):\n",
    "    ax.annotate(f'{proportion:.1f}%', (i, proportion), ha='center', va='bottom')\n",
    "\n",
    "# Adjust spacing between subplots\n",
    "plt.tight_layout()\n",
    "\n",
    "# Display the plots\n",
    "plt.show()"
   ]
  },
  {
   "cell_type": "code",
   "execution_count": null,
   "metadata": {},
   "outputs": [],
   "source": [
    "# 1 by 2 descriptive Plots\n",
    "\n",
    "# Calculate proportions\n",
    "proportions_gender = df['Gender'].value_counts(normalize=True) * 100\n",
    "proportions_senior_citizen = df['Senior Citizen'].value_counts(normalize=True) * 100\n",
    "proportions_partner = df['Partner'].value_counts(normalize=True) * 100\n",
    "proportions_dependents = df['Dependents'].value_counts(normalize=True) * 100\n",
    "\n",
    "# Create a 2x2 grid of subplots\n",
    "fig, axes = plt.subplots(nrows=1, ncols=2, figsize=(10, 5))\n",
    "\n",
    "# Plot Gender distribution with proportions\n",
    "ax = axes[0]\n",
    "sns.barplot(x=proportions_gender.index, y=proportions_gender.values, ax=ax)\n",
    "ax.set_title('Gender Distribution')\n",
    "ax.set_ylabel('Proportion (%)')\n",
    "for i, proportion in enumerate(proportions_gender):\n",
    "    ax.annotate(f'{proportion:.1f}%', (i, proportion), ha='center', va='bottom')\n",
    "\n",
    "# Plot Senior Citizen distribution with proportions\n",
    "ax = axes[1]\n",
    "sns.barplot(x=proportions_senior_citizen.index, y=proportions_senior_citizen.values, ax=ax)\n",
    "ax.set_title('Senior Citizen Distribution')\n",
    "ax.set_ylabel('Proportion (%)')\n",
    "for i, proportion in enumerate(proportions_senior_citizen):\n",
    "    ax.annotate(f'{proportion:.1f}%', (i, proportion), ha='center', va='bottom')\n",
    "\n",
    "# Adjust spacing between subplots\n",
    "plt.tight_layout()\n",
    "\n",
    "# Display the plots\n",
    "plt.show()\n"
   ]
  },
  {
   "cell_type": "code",
   "execution_count": null,
   "metadata": {},
   "outputs": [],
   "source": [
    "# 1 by 2 descriptive Plots\n",
    "\n",
    "# Calculate proportions\n",
    "proportions_gender = df['Gender'].value_counts(normalize=True) * 100\n",
    "proportions_senior_citizen = df['Senior Citizen'].value_counts(normalize=True) * 100\n",
    "proportions_partner = df['Partner'].value_counts(normalize=True) * 100\n",
    "proportions_dependents = df['Dependents'].value_counts(normalize=True) * 100\n",
    "\n",
    "# Create a 2x2 grid of subplots\n",
    "fig, axes = plt.subplots(nrows=1, ncols=2, figsize=(10, 5))\n",
    "\n",
    "# Plot Gender distribution with proportions\n",
    "ax = axes[0]\n",
    "sns.barplot(x=proportions_partner.index, y=proportions_partner.values, ax=ax)\n",
    "ax.set_title('Partner Distribution')\n",
    "ax.set_ylabel('Proportion (%)')\n",
    "for i, proportion in enumerate(proportions_partner):\n",
    "    ax.annotate(f'{proportion:.1f}%', (i, proportion), ha='center', va='bottom')\n",
    "\n",
    "# Plot Senior Citizen distribution with proportions\n",
    "ax = axes[1]\n",
    "sns.barplot(x=proportions_dependents.index, y=proportions_dependents.values, ax=ax)\n",
    "ax.set_title('Dependents Distribution')\n",
    "ax.set_ylabel('Proportion (%)')\n",
    "for i, proportion in enumerate(proportions_dependents):\n",
    "    ax.annotate(f'{proportion:.1f}%', (i, proportion), ha='center', va='bottom')\n",
    "\n",
    "# Adjust spacing between subplots\n",
    "plt.tight_layout()\n",
    "\n",
    "# Display the plots\n",
    "plt.show()"
   ]
  },
  {
   "attachments": {},
   "cell_type": "markdown",
   "metadata": {},
   "source": [
    "## Explorative Data Analysis"
   ]
  },
  {
   "cell_type": "code",
   "execution_count": null,
   "metadata": {},
   "outputs": [],
   "source": [
    "# Plotting Churn distribution by Internet Service\n",
    "sns.countplot(x='Internet Service', hue='Churn Label', data=df)\n",
    "plt.title('Churn Distribution by Internet Service')\n",
    "plt.show()\n",
    "\n",
    "# Plotting Churn distribution by Contract type\n",
    "sns.countplot(x='Contract', hue='Churn Label', data=df)\n",
    "plt.title('Churn Distribution by Contract Type')\n",
    "plt.show()\n",
    "\n",
    "# Plotting Churn distribution by Payment Method\n",
    "ax = sns.countplot(x='Payment Method', hue='Churn Label', data=df)\n",
    "plt.title('Churn Distribution by Payment Method')\n",
    "# Adjust x-axis tick label alignment\n",
    "ax.set_xticklabels(ax.get_xticklabels(), rotation=30, ha='right')\n",
    "plt.show()"
   ]
  },
  {
   "cell_type": "code",
   "execution_count": null,
   "metadata": {},
   "outputs": [],
   "source": [
    "# Create a 2x2 grid of subplots\n",
    "fig, axes = plt.subplots(nrows=2, ncols=2, figsize=(10, 10))\n",
    "\n",
    "# Plotting Churn distribution by Internet Service\n",
    "ax1 = axes[0, 0]\n",
    "sns.countplot(x='Internet Service', hue='Churn Label', data=df, ax=ax1)\n",
    "ax1.set_title('Churn Distribution by Internet Service')\n",
    "\n",
    "# Plotting Churn distribution by Contract type\n",
    "ax2 = axes[0, 1]\n",
    "sns.countplot(x='Contract', hue='Churn Label', data=df, ax=ax2)\n",
    "ax2.set_title('Churn Distribution by Contract Type')\n",
    "\n",
    "# Plotting Churn distribution by Payment Method\n",
    "ax3 = axes[1, 0]\n",
    "sns.countplot(x='Payment Method', hue='Churn Label', data=df, ax=ax3)\n",
    "ax3.set_title('Churn Distribution by Payment Method')\n",
    "ax3.set_xticklabels(ax3.get_xticklabels(), rotation=30, ha='right')\n",
    "\n",
    "# Remove empty subplot\n",
    "axes[1, 1].axis('off')\n",
    "\n",
    "# Adjust spacing between subplots\n",
    "plt.tight_layout()\n",
    "\n",
    "# Display the plots\n",
    "plt.show()"
   ]
  },
  {
   "cell_type": "code",
   "execution_count": null,
   "metadata": {},
   "outputs": [],
   "source": [
    "# Plotting Monthly Charges distribution by Churn\n",
    "plt.figure(figsize=(10, 6))\n",
    "sns.histplot(data=df, x='Monthly Charges', hue='Churn Label', multiple='dodge', kde=False)\n",
    "plt.title('Distribution of Monthly Charges by Churn')\n",
    "plt.xlabel('Monthly Charges')\n",
    "plt.ylabel('Count')\n",
    "plt.show()"
   ]
  },
  {
   "cell_type": "code",
   "execution_count": null,
   "metadata": {},
   "outputs": [],
   "source": [
    "# Plotting Tenure Months distribution by Churn\n",
    "plt.figure(figsize=(10, 6))\n",
    "sns.histplot(data=df, x='Tenure Months', hue='Churn Label', multiple='dodge', kde=False)\n",
    "plt.title('Distribution of Tenure Months by Churn')\n",
    "plt.xlabel('Tenure Months')\n",
    "plt.ylabel('Count')\n",
    "plt.show()\n"
   ]
  },
  {
   "cell_type": "code",
   "execution_count": null,
   "metadata": {},
   "outputs": [],
   "source": [
    "# Plotting the count of churn reasons\n",
    "plt.figure(figsize=(10, 6))\n",
    "sns.countplot(data=df, x='Churn Reason', order=df['Churn Reason'].value_counts().index)\n",
    "plt.title('Churn Reasons')\n",
    "plt.xlabel('Reason')\n",
    "plt.ylabel('Count')\n",
    "plt.xticks(rotation=90)\n",
    "plt.show()\n"
   ]
  },
  {
   "cell_type": "code",
   "execution_count": null,
   "metadata": {},
   "outputs": [],
   "source": [
    "# Select the categorical columns for dummy coding\n",
    "categorical_columns = ['Gender', 'Senior Citizen', 'Partner', 'Dependents', 'Phone Service', 'Multiple Lines', 'Internet Service', 'Online Security', 'Online Backup', 'Device Protection', 'Tech Support', 'Streaming TV', 'Streaming Movies', 'Contract', 'Paperless Billing', 'Payment Method', 'Churn Label']\n",
    "\n",
    "\n",
    "# Print the unique values of each categorical variable\n",
    "for column in categorical_columns:\n",
    "    unique_values = df[column].unique()\n",
    "    print(f\"Unique values in {column}: {unique_values}\")\n"
   ]
  },
  {
   "cell_type": "code",
   "execution_count": null,
   "metadata": {},
   "outputs": [],
   "source": [
    "# Select the categorical columns to convert to numeric values\n",
    "categorical_columns = ['Gender', 'Senior Citizen', 'Partner', 'Dependents', 'Phone Service', 'Paperless Billing']\n",
    "\n",
    "# Create a new DataFrame to store the encoded numeric values\n",
    "df_numeric = df.copy()\n",
    "\n",
    "# Initialize the LabelEncoder\n",
    "label_encoder = LabelEncoder()\n",
    "\n",
    "# Convert the selected categorical columns to numeric values\n",
    "for column in categorical_columns:\n",
    "    df_numeric[column] = label_encoder.fit_transform(df_numeric[column])\n"
   ]
  },
  {
   "cell_type": "code",
   "execution_count": null,
   "metadata": {},
   "outputs": [],
   "source": [
    "df_numeric.select_dtypes(include='number')"
   ]
  },
  {
   "cell_type": "code",
   "execution_count": null,
   "metadata": {},
   "outputs": [],
   "source": [
    "# Create Dataframe for Heatmap\n",
    "\n",
    "# mutate Total Charges\n",
    "df_numeric['Total Charges'] = pd.to_numeric(df_numeric['Total Charges'], errors='coerce')\n",
    "\n",
    "df_numeric = df_numeric.select_dtypes(include='number')\n",
    "# List of variables to exclude\n",
    "exclude_variables = ['Count', 'Zip Code', 'Latitude', 'Longitude', 'Churn Score', 'CLTV']\n",
    "\n",
    "# Create a new DataFrame excluding the specified variables\n",
    "df_numeric = df_numeric.drop(exclude_variables, axis=1)"
   ]
  },
  {
   "cell_type": "code",
   "execution_count": null,
   "metadata": {},
   "outputs": [],
   "source": [
    "# Calculate the correlation matrix\n",
    "corr_matrix = df_numeric.corr()\n",
    "\n",
    "# Create a mask to hide the upper triangle\n",
    "mask = np.triu(np.ones_like(corr_matrix, dtype=bool))\n",
    "\n",
    "# Plot the heatmap with the mask to show only the lower triangle\n",
    "plt.figure(figsize=(10, 10))\n",
    "sns.heatmap(corr_matrix, mask=mask, annot=True, cmap=\"coolwarm\")\n",
    "plt.title(\"Correlation Heatmap of Numerical and Dichotomous Variables\")\n",
    "plt.show()\n"
   ]
  }
 ],
 "metadata": {
  "kernelspec": {
   "display_name": ".venv",
   "language": "python",
   "name": "python3"
  },
  "language_info": {
   "codemirror_mode": {
    "name": "ipython",
    "version": 3
   },
   "file_extension": ".py",
   "mimetype": "text/x-python",
   "name": "python",
   "nbconvert_exporter": "python",
   "pygments_lexer": "ipython3",
   "version": "3.10.0"
  },
  "orig_nbformat": 4
 },
 "nbformat": 4,
 "nbformat_minor": 2
}
