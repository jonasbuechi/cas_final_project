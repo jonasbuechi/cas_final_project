{
 "cells": [
  {
   "cell_type": "code",
   "execution_count": null,
   "metadata": {},
   "outputs": [],
   "source": [
    "import requests\n",
    "import pandas as pd\n",
    "import math\n",
    "import base64\n",
    "from io import StringIO"
   ]
  },
  {
   "cell_type": "code",
   "execution_count": null,
   "metadata": {},
   "outputs": [],
   "source": [
    "# Set up the API URL and credentials\n",
    "API_URL = 'https://your.api.url.here/remotecontrol'\n",
    "API_USER = \"your_username\"\n",
    "API_PASSWORD = \"your_pw\"\n",
    "survey_id = \"447576\"  # LimeSurvey questionaire ID"
   ]
  },
  {
   "cell_type": "code",
   "execution_count": null,
   "metadata": {},
   "outputs": [],
   "source": [
    "# will setup limsurvey connection, if successful returns session key\n",
    "def setup_limesurvey():\n",
    "    auth_data = {\n",
    "        \"method\": \"get_session_key\",\n",
    "        \"params\": [\n",
    "            API_USER,\n",
    "            API_PASSWORD\n",
    "        ],\n",
    "        \"id\": 1\n",
    "    }\n",
    "    response = requests.post(API_URL, json=auth_data)\n",
    "\n",
    "    # check if connection to server can be established\n",
    "    if response.status_code == 200:\n",
    "        response_json = response.json()\n",
    "        # check if result exists in response_json\n",
    "        if 'result' in response_json:\n",
    "            result = response_json['result']\n",
    "            # check if string is 32 characters long (meaning it is the session key)\n",
    "            if isinstance(result, str) and len(result) == 32:\n",
    "                session_key = result\n",
    "                # Use the session_key for subsequent API requests\n",
    "                return session_key\n",
    "            else:\n",
    "                print(\"Authentication failed:\", response_json['result'])\n",
    "        else:\n",
    "            print(\"Authentication failed:\", response_json['error']['message'])\n",
    "    else:\n",
    "        print(\"Connection error:\", response.status_code)\n"
   ]
  },
  {
   "cell_type": "code",
   "execution_count": null,
   "metadata": {},
   "outputs": [],
   "source": [
    "# Setup LimeSurvey connecton and get session key\n",
    "session_key = setup_limesurvey()\n"
   ]
  },
  {
   "cell_type": "code",
   "execution_count": null,
   "metadata": {},
   "outputs": [],
   "source": [
    "# json payload for token count -> is used for importing user data\n",
    "json_payload_token_count = {\n",
    "\t\"method\": \"get_summary\",\n",
    "\t\"params\": [\n",
    "\t\tsession_key,\n",
    "\t\tsurvey_id,\n",
    "\t\t\"token_count\"\n",
    "\t],\n",
    "\t\"id\": 1\n",
    "}\n",
    "\n",
    "token_count = requests.post(API_URL, json=json_payload_token_count).json()[\"result\"]"
   ]
  },
  {
   "cell_type": "code",
   "execution_count": null,
   "metadata": {},
   "outputs": [],
   "source": [
    "\n",
    "# API Call with more than 100'000 rows throws an error, but relevant survey has more than 230'000 rows\n",
    "# make API calls in steps of 10'000\n",
    "df_user = pd.DataFrame()  # Create an empty DataFrame\n",
    "max = 10000 # cases to import per API call\n",
    "maxIt = math.ceil(int(token_count) / max) # how many API calls are need to load entire data\n",
    "\n",
    "for i in range(1, maxIt+1):\n",
    "    json_payload_list_participants = {\n",
    "        \"method\": \"list_participants\",\n",
    "        \"params\": [\n",
    "            session_key,\n",
    "            survey_id,\n",
    "            ((i - 1) * max), # iStart (row index to start import)\n",
    "            max, #iLimit (how many cases to import per API call)\n",
    "            False, #bUnused (only unused tokens?)\n",
    "            [\n",
    "                \"completed\", # survey completed\n",
    "                \"attribute_1\", # geschlecht\n",
    "                \"attribute_2\", # alter\n",
    "                \"attribute_3\", # pflegerischeoe (Organisationseinehit)\n",
    "                \"attribute_4\", # fachlicheoe (Organisationseinehit)\n",
    "                \"attribute_5\", # fachlicheoenamen\n",
    "                \"attribute_6\"  # klinik\n",
    "\t\t    ]\n",
    "        ],\n",
    "        \"id\": 1\n",
    "    }\n",
    "    \n",
    "    result_iterate = requests.post(API_URL, json=json_payload_list_participants).json()[\"result\"]\n",
    "    df_iterate = pd.json_normalize(result_iterate)\n",
    "    df_user = pd.concat([df_user, df_iterate])\n"
   ]
  },
  {
   "cell_type": "code",
   "execution_count": null,
   "metadata": {},
   "outputs": [],
   "source": [
    "# json payload for user responses -> is returned as a base64 string\n",
    "json_payload_export_responses = {\n",
    "\t\"method\": \"export_responses\",\n",
    "\t\"params\": [\n",
    "\t\tsession_key,\n",
    "\t\tsurvey_id,\n",
    "\t\t\"csv\", # sDocumentType\n",
    "        \"de\", # sLanguageCode\n",
    "        \"all\", # sCompletionStatus\n",
    "        \"code\", # sHeadingType\n",
    "        \"short\" # \n",
    "\t],\n",
    "\t\"id\": 1\n",
    "}\n",
    "\n",
    "response = requests.post(API_URL, json=json_payload_export_responses).json()[\"result\"]\n",
    "decoded_data = base64.b64decode(response).decode('utf-8')\n",
    "data_file = StringIO(decoded_data)\n",
    "# Read the CSV data into a DataFrame\n",
    "df_responses = pd.read_csv(data_file, delimiter=';')"
   ]
  },
  {
   "cell_type": "code",
   "execution_count": null,
   "metadata": {},
   "outputs": [],
   "source": [
    "# only keep user that have completed the survey\n",
    "df_responses_comp = df_responses[~pd.isnull(df_responses['submitdate'])]"
   ]
  },
  {
   "cell_type": "code",
   "execution_count": null,
   "metadata": {},
   "outputs": [],
   "source": [
    "# Merge user data and user responses into one df, only keep rows that have a response\n",
    "df_complete = df_user.merge(df_responses_comp, on='token', how='right')"
   ]
  }
 ],
 "metadata": {
  "kernelspec": {
   "display_name": ".venv",
   "language": "python",
   "name": "python3"
  },
  "language_info": {
   "codemirror_mode": {
    "name": "ipython",
    "version": 3
   },
   "file_extension": ".py",
   "mimetype": "text/x-python",
   "name": "python",
   "nbconvert_exporter": "python",
   "pygments_lexer": "ipython3",
   "version": "3.10.0"
  },
  "orig_nbformat": 4
 },
 "nbformat": 4,
 "nbformat_minor": 2
}
